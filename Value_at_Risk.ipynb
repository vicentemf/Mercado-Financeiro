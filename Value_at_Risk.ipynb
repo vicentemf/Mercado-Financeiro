{
  "nbformat": 4,
  "nbformat_minor": 0,
  "metadata": {
    "colab": {
      "name": "Value at Risk.ipynb",
      "provenance": [],
      "collapsed_sections": [],
      "authorship_tag": "ABX9TyO4aRR7GiLHlnE/H/yxRkUk",
      "include_colab_link": true
    },
    "kernelspec": {
      "name": "python3",
      "display_name": "Python 3"
    },
    "language_info": {
      "name": "python"
    }
  },
  "cells": [
    {
      "cell_type": "markdown",
      "metadata": {
        "id": "view-in-github",
        "colab_type": "text"
      },
      "source": [
        "<a href=\"https://colab.research.google.com/github/vicentemf/Mercado-Financeiro/blob/main/Value_at_Risk.ipynb\" target=\"_parent\"><img src=\"https://colab.research.google.com/assets/colab-badge.svg\" alt=\"Open In Colab\"/></a>"
      ]
    },
    {
      "cell_type": "markdown",
      "source": [
        "  Value at Risk(VaR) é um conceito utilizado pelo setor de risco para quantificar o quanto o capital está exposto em determinado(s) investimento(s). Isto não impede que o investidor pessoa física também possa quantificar seu risco em carteira , este é o objetivo deste artigo.\n",
        "\n",
        "  A idéia central do Var é quantificar a um determinado nível de confiança(geralmente 95% e 99%) o quanto se pode perder em determinado prazo(usarei neste artigo o diário) . \n",
        "  \n",
        "  A literatura financeira menciona alguns modos para este cálculo,este artigo apresenta um exemplo do modelo de cálculo através da variância-covariância, que parte do princípio que os retornos dos investimentos são dados a partir de uma curva normal \n",
        "\n",
        "  Recomendo a palestra de Kenneth Abbott disponível no youtube para entendimento do conceito do cálculo.\n",
        "  https://www.youtube.com/watch?v=92WaNz9mPeY"
      ],
      "metadata": {
        "id": "o0zF1X-86kIz"
      }
    },
    {
      "cell_type": "code",
      "source": [
        "#biblitecas fundamentais para extração,visualização e análise de dados\n",
        "!pip install yfinance\n",
        "import pandas as pd\n",
        "import numpy as np\n",
        "import matplotlib.pyplot as plt\n",
        "import yfinance as yf\n",
        "from scipy.stats import norm"
      ],
      "metadata": {
        "colab": {
          "base_uri": "https://localhost:8080/"
        },
        "id": "ERi7SRkE6qfB",
        "outputId": "4ee47f27-3bd1-4517-d59d-230bc817dabb"
      },
      "execution_count": 63,
      "outputs": [
        {
          "output_type": "stream",
          "name": "stdout",
          "text": [
            "Looking in indexes: https://pypi.org/simple, https://us-python.pkg.dev/colab-wheels/public/simple/\n",
            "Requirement already satisfied: yfinance in /usr/local/lib/python3.7/dist-packages (0.1.70)\n",
            "Requirement already satisfied: multitasking>=0.0.7 in /usr/local/lib/python3.7/dist-packages (from yfinance) (0.0.10)\n",
            "Requirement already satisfied: requests>=2.26 in /usr/local/lib/python3.7/dist-packages (from yfinance) (2.27.1)\n",
            "Requirement already satisfied: lxml>=4.5.1 in /usr/local/lib/python3.7/dist-packages (from yfinance) (4.9.0)\n",
            "Requirement already satisfied: pandas>=0.24.0 in /usr/local/lib/python3.7/dist-packages (from yfinance) (1.3.5)\n",
            "Requirement already satisfied: numpy>=1.15 in /usr/local/lib/python3.7/dist-packages (from yfinance) (1.21.6)\n",
            "Requirement already satisfied: python-dateutil>=2.7.3 in /usr/local/lib/python3.7/dist-packages (from pandas>=0.24.0->yfinance) (2.8.2)\n",
            "Requirement already satisfied: pytz>=2017.3 in /usr/local/lib/python3.7/dist-packages (from pandas>=0.24.0->yfinance) (2022.1)\n",
            "Requirement already satisfied: six>=1.5 in /usr/local/lib/python3.7/dist-packages (from python-dateutil>=2.7.3->pandas>=0.24.0->yfinance) (1.15.0)\n",
            "Requirement already satisfied: idna<4,>=2.5 in /usr/local/lib/python3.7/dist-packages (from requests>=2.26->yfinance) (2.10)\n",
            "Requirement already satisfied: certifi>=2017.4.17 in /usr/local/lib/python3.7/dist-packages (from requests>=2.26->yfinance) (2022.5.18.1)\n",
            "Requirement already satisfied: urllib3<1.27,>=1.21.1 in /usr/local/lib/python3.7/dist-packages (from requests>=2.26->yfinance) (1.24.3)\n",
            "Requirement already satisfied: charset-normalizer~=2.0.0 in /usr/local/lib/python3.7/dist-packages (from requests>=2.26->yfinance) (2.0.12)\n"
          ]
        }
      ]
    },
    {
      "cell_type": "markdown",
      "source": [
        "# Aqui pego as primeiras 2 ações que veio a mente,deixo claro que podemos utilizar quantas forem necessárias. Quanto as datas também estamos livres para escolher,entretanto,estatisticamente falando séries históricas longas trazem mais confiança a análise que séries históricas curtas ."
      ],
      "metadata": {
        "id": "csYdH_eU15r3"
      }
    },
    {
      "cell_type": "code",
      "execution_count": 64,
      "metadata": {
        "id": "MB1Vh1j36YE4"
      },
      "outputs": [],
      "source": [
        "carteira=[\"VALE3.SA\",\"PETR4.SA\"]\n",
        "inicio=\"2010-01-01\"\n",
        "fim=\"2020-01-01\""
      ]
    },
    {
      "cell_type": "code",
      "source": [
        "#obtenção dos dados a partir do Yahoo Finance e criação de um DataFrame para visualização dos mesmos\n",
        "cotacao=pd.DataFrame()\n",
        "for i in carteira:\n",
        "  cotacao[i]=yf.download(i,inicio,fim)[\"Adj Close\"]"
      ],
      "metadata": {
        "colab": {
          "base_uri": "https://localhost:8080/"
        },
        "id": "X_LPRgXKzRbV",
        "outputId": "8bd7371c-6ea1-4853-f56a-117f3cb18a93"
      },
      "execution_count": 65,
      "outputs": [
        {
          "output_type": "stream",
          "name": "stdout",
          "text": [
            "[*********************100%***********************]  1 of 1 completed\n",
            "[*********************100%***********************]  1 of 1 completed\n"
          ]
        }
      ]
    },
    {
      "cell_type": "markdown",
      "source": [
        "# Em uma análise, os dados nulos podem atrapalhar bastante,gosto de passar o comando abaixo para me certificar se tenho este tipo de dados em minha série histórica. O bom de usar a biblioteca Yahoo Finance é que dados nulos são bem difíceis de ocorrer."
      ],
      "metadata": {
        "id": "Wvcu5Kmf2hu5"
      }
    },
    {
      "cell_type": "code",
      "source": [
        "\n",
        "cotacao.info()"
      ],
      "metadata": {
        "colab": {
          "base_uri": "https://localhost:8080/"
        },
        "id": "_ik3HU030Z22",
        "outputId": "6fa6fbf7-1d52-4410-cb31-aaa508371085"
      },
      "execution_count": 66,
      "outputs": [
        {
          "output_type": "stream",
          "name": "stdout",
          "text": [
            "<class 'pandas.core.frame.DataFrame'>\n",
            "DatetimeIndex: 2480 entries, 2010-01-04 to 2019-12-30\n",
            "Data columns (total 2 columns):\n",
            " #   Column    Non-Null Count  Dtype  \n",
            "---  ------    --------------  -----  \n",
            " 0   VALE3.SA  2480 non-null   float64\n",
            " 1   PETR4.SA  2480 non-null   float64\n",
            "dtypes: float64(2)\n",
            "memory usage: 58.1 KB\n"
          ]
        }
      ]
    },
    {
      "cell_type": "markdown",
      "source": [
        "#  Aqui temos um ponto muito importante,para fins de comparação devemos sempre normalizar os nossos dados para conseguirmos relacionar variáveis de diferentes ordens magnitudes. No artigo sobre \"a recuperação dos bancos\" neste mesmo repositório eu utilizo a normalização a 100 , aqui utilizei a variação logarítmica, recomendada para este tipo de caso na literatura financeira.\n",
        "\n",
        "#   Em seguida atribui pesos para os papéis,40% em Vale3 e 60% em Petr4,proporção dada apenas para fins didáticos.\n"
      ],
      "metadata": {
        "id": "VK20AvpS20oq"
      }
    },
    {
      "cell_type": "code",
      "source": [
        "\n",
        "retorno=np.log(cotacao/cotacao.shift(1)).dropna()\n",
        "pesos=np.array([.40,.60])\n",
        "retorno[\"carteira\"]=retorno.dot(pesos)"
      ],
      "metadata": {
        "id": "QSh8VJz20rsr"
      },
      "execution_count": 67,
      "outputs": []
    },
    {
      "cell_type": "code",
      "source": [
        "retorno.head(5)"
      ],
      "metadata": {
        "colab": {
          "base_uri": "https://localhost:8080/",
          "height": 238
        },
        "id": "brH_rYND4vKQ",
        "outputId": "d4e0e79f-bf49-4d5a-d35c-781cca906bd8"
      },
      "execution_count": 68,
      "outputs": [
        {
          "output_type": "execute_result",
          "data": {
            "text/plain": [
              "            VALE3.SA  PETR4.SA  carteira\n",
              "Date                                    \n",
              "2010-01-05  0.009279 -0.008611 -0.001455\n",
              "2010-01-06  0.020945  0.013423  0.016432\n",
              "2010-01-07  0.004137 -0.009377 -0.003972\n",
              "2010-01-08  0.009711 -0.005398  0.000646\n",
              "2010-01-11 -0.002978 -0.003253 -0.003143"
            ],
            "text/html": [
              "\n",
              "  <div id=\"df-22c34dfd-f813-42a7-bc56-709ecb2075cd\">\n",
              "    <div class=\"colab-df-container\">\n",
              "      <div>\n",
              "<style scoped>\n",
              "    .dataframe tbody tr th:only-of-type {\n",
              "        vertical-align: middle;\n",
              "    }\n",
              "\n",
              "    .dataframe tbody tr th {\n",
              "        vertical-align: top;\n",
              "    }\n",
              "\n",
              "    .dataframe thead th {\n",
              "        text-align: right;\n",
              "    }\n",
              "</style>\n",
              "<table border=\"1\" class=\"dataframe\">\n",
              "  <thead>\n",
              "    <tr style=\"text-align: right;\">\n",
              "      <th></th>\n",
              "      <th>VALE3.SA</th>\n",
              "      <th>PETR4.SA</th>\n",
              "      <th>carteira</th>\n",
              "    </tr>\n",
              "    <tr>\n",
              "      <th>Date</th>\n",
              "      <th></th>\n",
              "      <th></th>\n",
              "      <th></th>\n",
              "    </tr>\n",
              "  </thead>\n",
              "  <tbody>\n",
              "    <tr>\n",
              "      <th>2010-01-05</th>\n",
              "      <td>0.009279</td>\n",
              "      <td>-0.008611</td>\n",
              "      <td>-0.001455</td>\n",
              "    </tr>\n",
              "    <tr>\n",
              "      <th>2010-01-06</th>\n",
              "      <td>0.020945</td>\n",
              "      <td>0.013423</td>\n",
              "      <td>0.016432</td>\n",
              "    </tr>\n",
              "    <tr>\n",
              "      <th>2010-01-07</th>\n",
              "      <td>0.004137</td>\n",
              "      <td>-0.009377</td>\n",
              "      <td>-0.003972</td>\n",
              "    </tr>\n",
              "    <tr>\n",
              "      <th>2010-01-08</th>\n",
              "      <td>0.009711</td>\n",
              "      <td>-0.005398</td>\n",
              "      <td>0.000646</td>\n",
              "    </tr>\n",
              "    <tr>\n",
              "      <th>2010-01-11</th>\n",
              "      <td>-0.002978</td>\n",
              "      <td>-0.003253</td>\n",
              "      <td>-0.003143</td>\n",
              "    </tr>\n",
              "  </tbody>\n",
              "</table>\n",
              "</div>\n",
              "      <button class=\"colab-df-convert\" onclick=\"convertToInteractive('df-22c34dfd-f813-42a7-bc56-709ecb2075cd')\"\n",
              "              title=\"Convert this dataframe to an interactive table.\"\n",
              "              style=\"display:none;\">\n",
              "        \n",
              "  <svg xmlns=\"http://www.w3.org/2000/svg\" height=\"24px\"viewBox=\"0 0 24 24\"\n",
              "       width=\"24px\">\n",
              "    <path d=\"M0 0h24v24H0V0z\" fill=\"none\"/>\n",
              "    <path d=\"M18.56 5.44l.94 2.06.94-2.06 2.06-.94-2.06-.94-.94-2.06-.94 2.06-2.06.94zm-11 1L8.5 8.5l.94-2.06 2.06-.94-2.06-.94L8.5 2.5l-.94 2.06-2.06.94zm10 10l.94 2.06.94-2.06 2.06-.94-2.06-.94-.94-2.06-.94 2.06-2.06.94z\"/><path d=\"M17.41 7.96l-1.37-1.37c-.4-.4-.92-.59-1.43-.59-.52 0-1.04.2-1.43.59L10.3 9.45l-7.72 7.72c-.78.78-.78 2.05 0 2.83L4 21.41c.39.39.9.59 1.41.59.51 0 1.02-.2 1.41-.59l7.78-7.78 2.81-2.81c.8-.78.8-2.07 0-2.86zM5.41 20L4 18.59l7.72-7.72 1.47 1.35L5.41 20z\"/>\n",
              "  </svg>\n",
              "      </button>\n",
              "      \n",
              "  <style>\n",
              "    .colab-df-container {\n",
              "      display:flex;\n",
              "      flex-wrap:wrap;\n",
              "      gap: 12px;\n",
              "    }\n",
              "\n",
              "    .colab-df-convert {\n",
              "      background-color: #E8F0FE;\n",
              "      border: none;\n",
              "      border-radius: 50%;\n",
              "      cursor: pointer;\n",
              "      display: none;\n",
              "      fill: #1967D2;\n",
              "      height: 32px;\n",
              "      padding: 0 0 0 0;\n",
              "      width: 32px;\n",
              "    }\n",
              "\n",
              "    .colab-df-convert:hover {\n",
              "      background-color: #E2EBFA;\n",
              "      box-shadow: 0px 1px 2px rgba(60, 64, 67, 0.3), 0px 1px 3px 1px rgba(60, 64, 67, 0.15);\n",
              "      fill: #174EA6;\n",
              "    }\n",
              "\n",
              "    [theme=dark] .colab-df-convert {\n",
              "      background-color: #3B4455;\n",
              "      fill: #D2E3FC;\n",
              "    }\n",
              "\n",
              "    [theme=dark] .colab-df-convert:hover {\n",
              "      background-color: #434B5C;\n",
              "      box-shadow: 0px 1px 3px 1px rgba(0, 0, 0, 0.15);\n",
              "      filter: drop-shadow(0px 1px 2px rgba(0, 0, 0, 0.3));\n",
              "      fill: #FFFFFF;\n",
              "    }\n",
              "  </style>\n",
              "\n",
              "      <script>\n",
              "        const buttonEl =\n",
              "          document.querySelector('#df-22c34dfd-f813-42a7-bc56-709ecb2075cd button.colab-df-convert');\n",
              "        buttonEl.style.display =\n",
              "          google.colab.kernel.accessAllowed ? 'block' : 'none';\n",
              "\n",
              "        async function convertToInteractive(key) {\n",
              "          const element = document.querySelector('#df-22c34dfd-f813-42a7-bc56-709ecb2075cd');\n",
              "          const dataTable =\n",
              "            await google.colab.kernel.invokeFunction('convertToInteractive',\n",
              "                                                     [key], {});\n",
              "          if (!dataTable) return;\n",
              "\n",
              "          const docLinkHtml = 'Like what you see? Visit the ' +\n",
              "            '<a target=\"_blank\" href=https://colab.research.google.com/notebooks/data_table.ipynb>data table notebook</a>'\n",
              "            + ' to learn more about interactive tables.';\n",
              "          element.innerHTML = '';\n",
              "          dataTable['output_type'] = 'display_data';\n",
              "          await google.colab.output.renderOutput(dataTable, element);\n",
              "          const docLink = document.createElement('div');\n",
              "          docLink.innerHTML = docLinkHtml;\n",
              "          element.appendChild(docLink);\n",
              "        }\n",
              "      </script>\n",
              "    </div>\n",
              "  </div>\n",
              "  "
            ]
          },
          "metadata": {},
          "execution_count": 68
        }
      ]
    },
    {
      "cell_type": "markdown",
      "source": [
        "#  Além do retorno ponderado da carteira, precisamos da média e do desvio padrão "
      ],
      "metadata": {
        "id": "4D_QM49u4ihu"
      }
    },
    {
      "cell_type": "code",
      "source": [
        "media_retorno=retorno[\"carteira\"].mean()\n",
        "desvio=retorno[\"carteira\"].std()\n",
        "print(f\"A média do retorno é = {media_retorno:.2%} \")\n",
        "print(f\"O desvio padrão é ={desvio:.2%} \")"
      ],
      "metadata": {
        "colab": {
          "base_uri": "https://localhost:8080/"
        },
        "id": "Oy3yiIyk8aZd",
        "outputId": "26964e1b-a2f2-4463-b9b3-88429972321e"
      },
      "execution_count": 69,
      "outputs": [
        {
          "output_type": "stream",
          "name": "stdout",
          "text": [
            "A média do retorno é = 0.01% \n",
            "O desvio padrão é =2.30% \n"
          ]
        }
      ]
    },
    {
      "cell_type": "markdown",
      "source": [
        "# A funçao .ppf vai retorno a um determinado nível de confiança(1 - alpha) o valor crítico da nossa distribuição .Se desejar a um nível de confiança de 99% utilizar alpha =0.01 ."
      ],
      "metadata": {
        "id": "-6xrt3hZ5FWt"
      }
    },
    {
      "cell_type": "code",
      "source": [
        "alpha=0.05\n",
        "var=norm.ppf(alpha,media_retorno,desvio)\n",
        "print(f\"O valor do Value at Risk é de{var:.2%} para esta carteira\")"
      ],
      "metadata": {
        "colab": {
          "base_uri": "https://localhost:8080/"
        },
        "id": "Ay105o01_EnS",
        "outputId": "3af66ec6-81a0-4f3b-f3bc-3ae36bca2576"
      },
      "execution_count": 70,
      "outputs": [
        {
          "output_type": "stream",
          "name": "stdout",
          "text": [
            "O valor do Value at Risk é de-3.78% para esta carteira\n"
          ]
        }
      ]
    },
    {
      "cell_type": "markdown",
      "source": [
        ""
      ],
      "metadata": {
        "id": "vtIoq7zm5e0d"
      }
    },
    {
      "cell_type": "code",
      "source": [
        "capital=100000\n",
        "perda_maxima=var * capital\n",
        "print(f\"Para o capital escolhido , ao nível de confiança de {1-alpha:.0%}, espera-se que o investidor não exceda a perda máxima de {perda_maxima:.2f} reais por dia\" )"
      ],
      "metadata": {
        "colab": {
          "base_uri": "https://localhost:8080/"
        },
        "id": "KON1esLM_9IR",
        "outputId": "8914e32b-5ce2-4ea7-93b9-57d6c073f60c"
      },
      "execution_count": 71,
      "outputs": [
        {
          "output_type": "stream",
          "name": "stdout",
          "text": [
            "Para o capital escolhido , ao nível de confiança de 95%, espera-se que o investidor não exceda a perda máxima de -3782.21 reais por dia\n"
          ]
        }
      ]
    },
    {
      "cell_type": "markdown",
      "source": [
        "# Com esta rotina podemos perceber a importância do setor de risco e porque da utilização do VaR para análises de investimentos . \n",
        "# É importante mencionar que toda base estatísica não apresenta certezas e sim probabilidades !"
      ],
      "metadata": {
        "id": "I4VaxyTH5jxP"
      }
    }
  ]
}